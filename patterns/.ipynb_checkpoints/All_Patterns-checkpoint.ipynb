{
 "cells": [
  {
   "cell_type": "markdown",
   "id": "cc332908-67ee-4937-b3ee-9a03ec48b9bc",
   "metadata": {},
   "source": [
    "# Pattern1"
   ]
  },
  {
   "cell_type": "code",
   "execution_count": 4,
   "id": "ee996293-d34e-4e5e-aa1f-a669d74a9599",
   "metadata": {},
   "outputs": [],
   "source": [
    "#include <bits/stdc++.h>\n",
    "using namespace std;"
   ]
  },
  {
   "cell_type": "code",
   "execution_count": 7,
   "id": "e528b736-835d-4a2a-9292-b3bdbed2d880",
   "metadata": {},
   "outputs": [],
   "source": [
    "int n = 5;"
   ]
  },
  {
   "cell_type": "code",
   "execution_count": 8,
   "id": "82f94a3f-19bb-4b25-b1d7-9fff9ff81e6b",
   "metadata": {},
   "outputs": [
    {
     "name": "stdout",
     "output_type": "stream",
     "text": [
      "* * * * * \n",
      "* * * * * \n",
      "* * * * * \n",
      "* * * * * \n",
      "* * * * * \n"
     ]
    }
   ],
   "source": [
    "for (int i = 0; i < n; i++){\n",
    "    for (int j = 0; j < n; j++){\n",
    "        cout << \"* \";\n",
    "    }\n",
    "    cout << endl;\n",
    "}"
   ]
  },
  {
   "cell_type": "markdown",
   "id": "88500f15-9565-4f70-be2d-21f185398ed1",
   "metadata": {},
   "source": [
    "# Pattern2"
   ]
  },
  {
   "cell_type": "code",
   "execution_count": 2,
   "id": "dfc316a5-1f9e-406d-98ad-c7d237968c7c",
   "metadata": {},
   "outputs": [],
   "source": [
    "int n = 5;"
   ]
  },
  {
   "cell_type": "code",
   "execution_count": 3,
   "id": "5117bce4-a23f-4e17-a13a-e8d82b8cc15a",
   "metadata": {},
   "outputs": [
    {
     "name": "stdout",
     "output_type": "stream",
     "text": [
      "* \n",
      "* * \n",
      "* * * \n",
      "* * * * \n",
      "* * * * * \n"
     ]
    }
   ],
   "source": [
    "for (int i = 0; i < n; i++){\n",
    "    for (int j = 0; j <= i; j++){\n",
    "        cout << \"* \";\n",
    "    }\n",
    "    cout << endl;\n",
    "}"
   ]
  },
  {
   "cell_type": "markdown",
   "id": "80208612-2b7b-49c2-928b-bdfe3124748c",
   "metadata": {},
   "source": [
    "# Pattern3"
   ]
  },
  {
   "cell_type": "code",
   "execution_count": 5,
   "id": "4f140e5c-56ca-4658-8a25-5dfe3f3f121e",
   "metadata": {},
   "outputs": [],
   "source": [
    "int n = 5;"
   ]
  },
  {
   "cell_type": "code",
   "execution_count": 7,
   "id": "f79b2bd4-27b4-49f0-92b6-7385bed36044",
   "metadata": {},
   "outputs": [
    {
     "name": "stdout",
     "output_type": "stream",
     "text": [
      "1 \n",
      "1 2 \n",
      "1 2 3 \n",
      "1 2 3 4 \n",
      "1 2 3 4 5 \n"
     ]
    }
   ],
   "source": [
    "for (int i = 1; i <= n; i++){\n",
    "    for (int j = 1; j <= i; j++){\n",
    "        cout << j << \" \";\n",
    "    }\n",
    "    cout << endl;\n",
    "}"
   ]
  },
  {
   "cell_type": "markdown",
   "id": "c2060ad1-2a4e-438b-95b5-39b8590c6430",
   "metadata": {},
   "source": [
    "# Pattern4"
   ]
  },
  {
   "cell_type": "code",
   "execution_count": null,
   "id": "f80ba470-dc9b-43c0-98fb-86a631dc2697",
   "metadata": {},
   "outputs": [],
   "source": [
    "int n = 5;"
   ]
  },
  {
   "cell_type": "code",
   "execution_count": 8,
   "id": "8955f279-c675-480e-93df-345e0541d7d4",
   "metadata": {},
   "outputs": [
    {
     "name": "stdout",
     "output_type": "stream",
     "text": [
      "1 \n",
      "2 2 \n",
      "3 3 3 \n",
      "4 4 4 4 \n",
      "5 5 5 5 5 \n"
     ]
    }
   ],
   "source": [
    "for (int i = 1; i <= n; i++){\n",
    "    for (int j = 1; j <= i; j++){\n",
    "        cout << i << \" \";\n",
    "    }\n",
    "    cout << endl;\n",
    "}"
   ]
  },
  {
   "cell_type": "markdown",
   "id": "90cb2ede-8b96-4c9e-b657-b1c8e0d330a3",
   "metadata": {},
   "source": [
    "# Pattern5"
   ]
  },
  {
   "cell_type": "code",
   "execution_count": 9,
   "id": "9e39f42c-f455-4ee6-b32b-ecadb3154e35",
   "metadata": {},
   "outputs": [],
   "source": [
    "int n = 5;"
   ]
  },
  {
   "cell_type": "code",
   "execution_count": 10,
   "id": "0a6139c2-c088-4c5d-bd8e-feb55de9a355",
   "metadata": {},
   "outputs": [
    {
     "name": "stdout",
     "output_type": "stream",
     "text": [
      "* * * * * \n",
      "* * * * \n",
      "* * * \n",
      "* * \n",
      "* \n"
     ]
    }
   ],
   "source": [
    "for (int i = 0; i < n; i++){\n",
    "    for (int j = n-i; j > 0; j--){\n",
    "        cout << \"* \";\n",
    "    }\n",
    "    cout << endl;\n",
    "}"
   ]
  }
 ],
 "metadata": {
  "kernelspec": {
   "display_name": "C++17",
   "language": "C++17",
   "name": "xcpp17"
  },
  "language_info": {
   "codemirror_mode": "text/x-c++src",
   "file_extension": ".cpp",
   "mimetype": "text/x-c++src",
   "name": "c++",
   "version": "17"
  }
 },
 "nbformat": 4,
 "nbformat_minor": 5
}
