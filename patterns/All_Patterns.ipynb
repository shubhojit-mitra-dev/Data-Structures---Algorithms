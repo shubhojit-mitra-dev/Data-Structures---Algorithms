{
 "cells": [
  {
   "cell_type": "markdown",
   "id": "cc332908-67ee-4937-b3ee-9a03ec48b9bc",
   "metadata": {},
   "source": [
    "# Pattern1"
   ]
  },
  {
   "cell_type": "code",
   "execution_count": 1,
   "id": "ee996293-d34e-4e5e-aa1f-a669d74a9599",
   "metadata": {},
   "outputs": [],
   "source": [
    "#include <bits/stdc++.h>\n",
    "using namespace std;"
   ]
  },
  {
   "cell_type": "code",
   "execution_count": 7,
   "id": "e528b736-835d-4a2a-9292-b3bdbed2d880",
   "metadata": {},
   "outputs": [],
   "source": [
    "int n = 5;"
   ]
  },
  {
   "cell_type": "code",
   "execution_count": 8,
   "id": "82f94a3f-19bb-4b25-b1d7-9fff9ff81e6b",
   "metadata": {},
   "outputs": [
    {
     "name": "stdout",
     "output_type": "stream",
     "text": [
      "* * * * * \n",
      "* * * * * \n",
      "* * * * * \n",
      "* * * * * \n",
      "* * * * * \n"
     ]
    }
   ],
   "source": [
    "for (int i = 0; i < n; i++){\n",
    "    for (int j = 0; j < n; j++){\n",
    "        cout << \"* \";\n",
    "    }\n",
    "    cout << endl;\n",
    "}"
   ]
  },
  {
   "cell_type": "markdown",
   "id": "88500f15-9565-4f70-be2d-21f185398ed1",
   "metadata": {},
   "source": [
    "# Pattern2"
   ]
  },
  {
   "cell_type": "code",
   "execution_count": 2,
   "id": "dfc316a5-1f9e-406d-98ad-c7d237968c7c",
   "metadata": {},
   "outputs": [],
   "source": [
    "int n = 5;"
   ]
  },
  {
   "cell_type": "code",
   "execution_count": 3,
   "id": "5117bce4-a23f-4e17-a13a-e8d82b8cc15a",
   "metadata": {},
   "outputs": [
    {
     "name": "stdout",
     "output_type": "stream",
     "text": [
      "* \n",
      "* * \n",
      "* * * \n",
      "* * * * \n",
      "* * * * * \n"
     ]
    }
   ],
   "source": [
    "for (int i = 0; i < n; i++){\n",
    "    for (int j = 0; j <= i; j++){\n",
    "        cout << \"* \";\n",
    "    }\n",
    "    cout << endl;\n",
    "}"
   ]
  }
 ],
 "metadata": {
  "kernelspec": {
   "display_name": "C++17",
   "language": "C++17",
   "name": "xcpp17"
  },
  "language_info": {
   "codemirror_mode": "text/x-c++src",
   "file_extension": ".cpp",
   "mimetype": "text/x-c++src",
   "name": "c++",
   "version": "17"
  }
 },
 "nbformat": 4,
 "nbformat_minor": 5
}
