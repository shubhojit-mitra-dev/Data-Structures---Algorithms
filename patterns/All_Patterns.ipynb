{
 "cells": [
  {
   "cell_type": "markdown",
   "id": "cc332908-67ee-4937-b3ee-9a03ec48b9bc",
   "metadata": {},
   "source": [
    "# Pattern1"
   ]
  },
  {
   "cell_type": "code",
   "execution_count": 1,
   "id": "ee996293-d34e-4e5e-aa1f-a669d74a9599",
   "metadata": {},
   "outputs": [],
   "source": [
    "#include <bits/stdc++.h>\n",
    "using namespace std;"
   ]
  },
  {
   "cell_type": "code",
   "execution_count": 7,
   "id": "e528b736-835d-4a2a-9292-b3bdbed2d880",
   "metadata": {},
   "outputs": [],
   "source": [
    "int n = 5;"
   ]
  },
  {
   "cell_type": "code",
   "execution_count": 8,
   "id": "82f94a3f-19bb-4b25-b1d7-9fff9ff81e6b",
   "metadata": {},
   "outputs": [
    {
     "name": "stdout",
     "output_type": "stream",
     "text": [
      "* * * * * \n",
      "* * * * * \n",
      "* * * * * \n",
      "* * * * * \n",
      "* * * * * \n"
     ]
    }
   ],
   "source": [
    "for (int i = 0; i < n; i++){\n",
    "    for (int j = 0; j < n; j++){\n",
    "        cout << \"* \";\n",
    "    }\n",
    "    cout << endl;\n",
    "}"
   ]
  },
  {
   "cell_type": "markdown",
   "id": "88500f15-9565-4f70-be2d-21f185398ed1",
   "metadata": {},
   "source": [
    "# Pattern2"
   ]
  },
  {
   "cell_type": "code",
   "execution_count": 2,
   "id": "dfc316a5-1f9e-406d-98ad-c7d237968c7c",
   "metadata": {},
   "outputs": [],
   "source": [
    "int n = 5;"
   ]
  },
  {
   "cell_type": "code",
   "execution_count": 3,
   "id": "5117bce4-a23f-4e17-a13a-e8d82b8cc15a",
   "metadata": {},
   "outputs": [
    {
     "name": "stdout",
     "output_type": "stream",
     "text": [
      "* \n",
      "* * \n",
      "* * * \n",
      "* * * * \n",
      "* * * * * \n"
     ]
    }
   ],
   "source": [
    "for (int i = 0; i < n; i++){\n",
    "    for (int j = 0; j <= i; j++){\n",
    "        cout << \"* \";\n",
    "    }\n",
    "    cout << endl;\n",
    "}"
   ]
  },
  {
   "cell_type": "markdown",
   "id": "80208612-2b7b-49c2-928b-bdfe3124748c",
   "metadata": {},
   "source": [
    "# Pattern3"
   ]
  },
  {
   "cell_type": "code",
   "execution_count": 5,
   "id": "4f140e5c-56ca-4658-8a25-5dfe3f3f121e",
   "metadata": {},
   "outputs": [],
   "source": [
    "int n = 5;"
   ]
  },
  {
   "cell_type": "code",
   "execution_count": 7,
   "id": "f79b2bd4-27b4-49f0-92b6-7385bed36044",
   "metadata": {},
   "outputs": [
    {
     "name": "stdout",
     "output_type": "stream",
     "text": [
      "1 \n",
      "1 2 \n",
      "1 2 3 \n",
      "1 2 3 4 \n",
      "1 2 3 4 5 \n"
     ]
    }
   ],
   "source": [
    "for (int i = 1; i <= n; i++){\n",
    "    for (int j = 1; j <= i; j++){\n",
    "        cout << j << \" \";\n",
    "    }\n",
    "    cout << endl;\n",
    "}"
   ]
  },
  {
   "cell_type": "markdown",
   "id": "c2060ad1-2a4e-438b-95b5-39b8590c6430",
   "metadata": {},
   "source": [
    "# Pattern4"
   ]
  },
  {
   "cell_type": "code",
   "execution_count": null,
   "id": "f80ba470-dc9b-43c0-98fb-86a631dc2697",
   "metadata": {},
   "outputs": [],
   "source": [
    "int n = 5;"
   ]
  },
  {
   "cell_type": "code",
   "execution_count": 8,
   "id": "8955f279-c675-480e-93df-345e0541d7d4",
   "metadata": {},
   "outputs": [
    {
     "name": "stdout",
     "output_type": "stream",
     "text": [
      "1 \n",
      "2 2 \n",
      "3 3 3 \n",
      "4 4 4 4 \n",
      "5 5 5 5 5 \n"
     ]
    }
   ],
   "source": [
    "for (int i = 1; i <= n; i++){\n",
    "    for (int j = 1; j <= i; j++){\n",
    "        cout << i << \" \";\n",
    "    }\n",
    "    cout << endl;\n",
    "}"
   ]
  },
  {
   "cell_type": "markdown",
   "id": "90cb2ede-8b96-4c9e-b657-b1c8e0d330a3",
   "metadata": {},
   "source": [
    "# Pattern5"
   ]
  },
  {
   "cell_type": "code",
   "execution_count": 9,
   "id": "9e39f42c-f455-4ee6-b32b-ecadb3154e35",
   "metadata": {},
   "outputs": [],
   "source": [
    "int n = 5;"
   ]
  },
  {
   "cell_type": "code",
   "execution_count": 10,
   "id": "0a6139c2-c088-4c5d-bd8e-feb55de9a355",
   "metadata": {},
   "outputs": [
    {
     "name": "stdout",
     "output_type": "stream",
     "text": [
      "* * * * * \n",
      "* * * * \n",
      "* * * \n",
      "* * \n",
      "* \n"
     ]
    }
   ],
   "source": [
    "for (int i = 0; i < n; i++){\n",
    "    for (int j = n-i; j > 0; j--){\n",
    "        cout << \"* \";\n",
    "    }\n",
    "    cout << endl;\n",
    "}"
   ]
  },
  {
   "cell_type": "markdown",
   "id": "d3faf18e-9ec9-4646-83e3-fae2f5453125",
   "metadata": {},
   "source": [
    "# Pattern6"
   ]
  },
  {
   "cell_type": "code",
   "execution_count": 11,
   "id": "ac58bacb-6fdf-4b5c-b98c-d88c856a1ab8",
   "metadata": {},
   "outputs": [],
   "source": [
    "int n = 5;"
   ]
  },
  {
   "cell_type": "code",
   "execution_count": 12,
   "id": "2f4baa8e-d870-4c96-a996-661b730cd76f",
   "metadata": {},
   "outputs": [
    {
     "name": "stdout",
     "output_type": "stream",
     "text": [
      "1 2 3 4 5 \n",
      "1 2 3 4 \n",
      "1 2 3 \n",
      "1 2 \n",
      "1 \n"
     ]
    }
   ],
   "source": [
    "for (int i = 0; i < n; i++){\n",
    "    for (int j = 0; j < n-i; j++){\n",
    "        cout << j+1 << \" \";\n",
    "    }\n",
    "    cout << endl;\n",
    "}"
   ]
  },
  {
   "cell_type": "markdown",
   "id": "539b1739-3e3e-44cc-9227-e7aaeaab0b67",
   "metadata": {},
   "source": [
    "# Pattern7"
   ]
  },
  {
   "cell_type": "code",
   "execution_count": 16,
   "id": "de2242ba-c592-4947-ab0b-2e2e9f55e08c",
   "metadata": {},
   "outputs": [],
   "source": [
    "int n = 5;"
   ]
  },
  {
   "cell_type": "code",
   "execution_count": 14,
   "id": "87501b06-6e7d-4eda-8e72-55e249118869",
   "metadata": {},
   "outputs": [
    {
     "name": "stdout",
     "output_type": "stream",
     "text": [
      "        * \n",
      "      * * * \n",
      "    * * * * * \n",
      "  * * * * * * * \n",
      "* * * * * * * * * \n"
     ]
    }
   ],
   "source": [
    "for (int i = 1; i <= n; i++){\n",
    "    for (int j = 0; j < n-i; j++){\n",
    "        cout << \"  \";\n",
    "    }\n",
    "    for (int k = 0; k < 2*i-1; k++){\n",
    "        cout << \"* \";\n",
    "    }\n",
    "    cout << endl;\n",
    "}"
   ]
  },
  {
   "cell_type": "markdown",
   "id": "7bcbafe5-c062-4923-85b5-4022a5dc2b90",
   "metadata": {},
   "source": [
    "# Pattern8"
   ]
  },
  {
   "cell_type": "code",
   "execution_count": null,
   "id": "5c6ec83a-f122-440a-8068-392742360005",
   "metadata": {},
   "outputs": [],
   "source": [
    "int n = 5;"
   ]
  },
  {
   "cell_type": "code",
   "execution_count": 19,
   "id": "b0f8782e-d03a-4c7e-9612-079daa4f9251",
   "metadata": {},
   "outputs": [
    {
     "name": "stdout",
     "output_type": "stream",
     "text": [
      "* * * * * * * * * \n",
      "  * * * * * * * \n",
      "    * * * * * \n",
      "      * * * \n",
      "        * \n"
     ]
    }
   ],
   "source": [
    "for (int i = 0; i < n; i++){\n",
    "    for (int j = 0; j < i; j++){\n",
    "        cout << \"  \";\n",
    "    }\n",
    "    for (int k = 0; k < 2*n-2*i-1; k++){\n",
    "        cout << \"* \";\n",
    "    }\n",
    "    cout << endl;\n",
    "}"
   ]
  },
  {
   "cell_type": "markdown",
   "id": "b046c7b3-518d-41f4-8a94-a2efc93131f6",
   "metadata": {},
   "source": [
    "# Pattern9"
   ]
  },
  {
   "cell_type": "code",
   "execution_count": null,
   "id": "67a9d694-4b8e-4bb2-af10-60f783cb6684",
   "metadata": {},
   "outputs": [],
   "source": [
    "int n = 5;"
   ]
  },
  {
   "cell_type": "code",
   "execution_count": 20,
   "id": "e9f67d54-580a-49c3-a0c3-1f97461453f4",
   "metadata": {},
   "outputs": [
    {
     "name": "stdout",
     "output_type": "stream",
     "text": [
      "        * \n",
      "      * * * \n",
      "    * * * * * \n",
      "  * * * * * * * \n",
      "* * * * * * * * * \n",
      "  * * * * * * * \n",
      "    * * * * * \n",
      "      * * * \n",
      "        * \n"
     ]
    }
   ],
   "source": [
    "for (int i = 1; i <= n; i++){\n",
    "    for (int j = 0; j < n-i; j++){\n",
    "        cout << \"  \";\n",
    "    }\n",
    "    for (int k = 0; k < 2*i-1; k++){\n",
    "        cout << \"* \";\n",
    "    }\n",
    "    cout << endl;\n",
    "}\n",
    "for (int i = 1; i < n; i++){\n",
    "    for (int j = 0; j < i; j++){\n",
    "        cout << \"  \";\n",
    "    }\n",
    "    for (int k = 0; k < 2*n-2*i-1; k++){\n",
    "        cout << \"* \";\n",
    "    }\n",
    "    cout << endl;\n",
    "}"
   ]
  },
  {
   "cell_type": "markdown",
   "id": "df2333d8",
   "metadata": {},
   "source": [
    "# Pattern10"
   ]
  },
  {
   "cell_type": "code",
   "execution_count": 2,
   "id": "c3f85ba1",
   "metadata": {
    "vscode": {
     "languageId": "plaintext"
    }
   },
   "outputs": [],
   "source": [
    "int n = 5;"
   ]
  },
  {
   "cell_type": "code",
   "execution_count": 3,
   "id": "acb0e369",
   "metadata": {
    "vscode": {
     "languageId": "plaintext"
    }
   },
   "outputs": [
    {
     "name": "stdout",
     "output_type": "stream",
     "text": [
      "* \n",
      "* * \n",
      "* * * \n",
      "* * * * \n",
      "* * * * * \n",
      "* * * * \n",
      "* * * \n",
      "* * \n",
      "* \n"
     ]
    }
   ],
   "source": [
    "for (int i = 0; i < n; i++){\n",
    "    for (int j = 0; j <= i; j++){\n",
    "        cout << \"* \";\n",
    "    }\n",
    "    cout << endl;\n",
    "}\n",
    "for (int i = n-1; i > 0; i--){\n",
    "    for (int j = i; j > 0; j--){\n",
    "        cout << \"* \";\n",
    "    }\n",
    "    cout << endl;\n",
    "}"
   ]
  },
  {
   "cell_type": "markdown",
   "id": "a35c61d5-3c3e-4c24-b9e5-0e0c225a1ff4",
   "metadata": {},
   "source": [
    "# Pattern11"
   ]
  },
  {
   "cell_type": "code",
   "execution_count": 4,
   "id": "e8cbea7a-e902-4cd2-9287-3549a15dee2d",
   "metadata": {},
   "outputs": [],
   "source": [
    "int n = 5;"
   ]
  },
  {
   "cell_type": "code",
   "execution_count": 5,
   "id": "50fcfc86-3784-4843-a87a-49988e7eca4a",
   "metadata": {},
   "outputs": [
    {
     "name": "stdout",
     "output_type": "stream",
     "text": [
      "1 \n",
      "0 1 \n",
      "1 0 1 \n",
      "0 1 0 1 \n",
      "1 0 1 0 1 \n"
     ]
    }
   ],
   "source": [
    "int start = 1;\n",
    "for (int i = 0; i < n; i++){\n",
    "    if (i % 2 == 0) start = 1;\n",
    "    else start = 0;\n",
    "    for (int j = 0; j <= i; j++){\n",
    "        cout << start << \" \";\n",
    "        start = 1 - start;\n",
    "    }\n",
    "    cout << endl;\n",
    "}"
   ]
  }
 ],
 "metadata": {
  "kernelspec": {
   "display_name": "C++17",
   "language": "C++17",
   "name": "xcpp17"
  },
  "language_info": {
   "codemirror_mode": "text/x-c++src",
   "file_extension": ".cpp",
   "mimetype": "text/x-c++src",
   "name": "c++",
   "version": "17"
  }
 },
 "nbformat": 4,
 "nbformat_minor": 5
}
