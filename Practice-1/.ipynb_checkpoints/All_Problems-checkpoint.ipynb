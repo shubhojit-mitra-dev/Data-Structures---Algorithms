{
 "cells": [
  {
   "cell_type": "markdown",
   "id": "f1327bf3-4e39-4218-932c-44d02583c037",
   "metadata": {},
   "source": [
    "# Problems\n",
    "\n",
    "- Find sum of all array elements using recursion.\n",
    "- Create an array ‘a1’ with ‘n’ elements. Insert an element in ith position of ‘a1’ and also delete an element from jth position of ‘a1’.\n",
    "- Convert uppercase string to lowercase using for loop.\n",
    "- Find the sum of rows and columns of matrix of given order (row x column).\n",
    "- Find the product of two matrices using pointers.\n",
    "- Store ‘n’ numbers (integers or real) in an array. Conduct a linear search for a given number and report success or failure in the form of a suitable message.\n",
    "- Write a program to reverse an array.\n",
    "- Find the largest three distinct elements in an array: Input: arr[] = {10, 4, 3, 50, 23, 90} Output: 90, 50, 23\n",
    "- Move all zeroes to end of array\n",
    "- Rearrange an array in maximum minimum form using Two Pointer Technique. Input: arr[] = {1, 2, 3, 4, 5, 6, 7} Output: arr[] = {7, 1, 6, 2, 5, 3, 4}.\n",
    "- Print all Distinct ( Unique ) Elements in given Array: Input: arr[] = {12, 10, 9, 45, 2, 10, 10, 45} Output: 12, 10, 9, 2\n",
    "- Write a program to count the total number of nonzero elements in a two-dimensional array.\n",
    "- Write a program using pointers to interchange the second biggest and the second smallest number in the array."
   ]
  },
  {
   "cell_type": "code",
   "execution_count": 1,
   "id": "22122d0e-0c4a-4c20-9a2c-15f4d5a48833",
   "metadata": {},
   "outputs": [],
   "source": [
    "#include <bits/stdc++.h>\n",
    "using namespace std;"
   ]
  },
  {
   "cell_type": "markdown",
   "id": "f5e80dd4-d8c4-4edb-8d73-b714d47b245e",
   "metadata": {},
   "source": [
    "### Find sum of all array elements using recursion"
   ]
  },
  {
   "cell_type": "code",
   "execution_count": 3,
   "id": "b27c4f2d-fa27-481d-90b0-8eababb0f76a",
   "metadata": {},
   "outputs": [],
   "source": [
    "int sumArray(int arr[], int n){\n",
    "    if(n == 0){\n",
    "        return 0;\n",
    "    }\n",
    "    return arr[n-1] + sumArray(arr, n-1);\n",
    "}"
   ]
  },
  {
   "cell_type": "code",
   "execution_count": 7,
   "id": "23ff2e0b-dced-4901-9247-729bc4b9d6d3",
   "metadata": {},
   "outputs": [],
   "source": [
    "int n = 5;\n",
    "int arr[] = {2,4,8,7,6}"
   ]
  },
  {
   "cell_type": "code",
   "execution_count": 8,
   "id": "9aa1baf9-e52e-44ce-a040-4edff937ba71",
   "metadata": {},
   "outputs": [
    {
     "name": "stdout",
     "output_type": "stream",
     "text": [
      "27\n"
     ]
    }
   ],
   "source": [
    "int sum = sumArray(arr, n);\n",
    "cout << sum << endl;"
   ]
  }
 ],
 "metadata": {
  "kernelspec": {
   "display_name": "C++17",
   "language": "C++17",
   "name": "xcpp17"
  },
  "language_info": {
   "codemirror_mode": "text/x-c++src",
   "file_extension": ".cpp",
   "mimetype": "text/x-c++src",
   "name": "c++",
   "version": "17"
  }
 },
 "nbformat": 4,
 "nbformat_minor": 5
}
