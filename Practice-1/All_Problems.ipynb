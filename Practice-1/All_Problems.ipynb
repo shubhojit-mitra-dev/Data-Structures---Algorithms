{
 "cells": [
  {
   "cell_type": "markdown",
   "id": "f1327bf3-4e39-4218-932c-44d02583c037",
   "metadata": {},
   "source": [
    "# Problems\n",
    "\n",
    "- Find sum of all array elements using recursion.\n",
    "- Create an array ‘a1’ with ‘n’ elements. Insert an element in ith position of ‘a1’ and also delete an element from jth position of ‘a1’.\n",
    "- Convert uppercase string to lowercase using for loop.\n",
    "- Find the sum of rows and columns of matrix of given order (row x column).\n",
    "- Find the product of two matrices using pointers.\n",
    "- Store ‘n’ numbers (integers or real) in an array. Conduct a linear search for a given number and report success or failure in the form of a suitable message.\n",
    "- Write a program to reverse an array.\n",
    "- Find the largest three distinct elements in an array: Input: arr[] = {10, 4, 3, 50, 23, 90} Output: 90, 50, 23\n",
    "- Move all zeroes to end of array\n",
    "- Rearrange an array in maximum minimum form using Two Pointer Technique. Input: arr[] = {1, 2, 3, 4, 5, 6, 7} Output: arr[] = {7, 1, 6, 2, 5, 3, 4}.\n",
    "- Print all Distinct ( Unique ) Elements in given Array: Input: arr[] = {12, 10, 9, 45, 2, 10, 10, 45} Output: 12, 10, 9, 2\n",
    "- Write a program to count the total number of nonzero elements in a two-dimensional array.\n",
    "- Write a program using pointers to interchange the second biggest and the second smallest number in the array."
   ]
  },
  {
   "cell_type": "code",
   "execution_count": 1,
   "id": "22122d0e-0c4a-4c20-9a2c-15f4d5a48833",
   "metadata": {},
   "outputs": [],
   "source": [
    "#include <bits/stdc++.h>\n",
    "using namespace std;"
   ]
  },
  {
   "cell_type": "markdown",
   "id": "f5e80dd4-d8c4-4edb-8d73-b714d47b245e",
   "metadata": {},
   "source": [
    "### 1. Find sum of all array elements using recursion"
   ]
  },
  {
   "cell_type": "code",
   "execution_count": 3,
   "id": "b27c4f2d-fa27-481d-90b0-8eababb0f76a",
   "metadata": {},
   "outputs": [],
   "source": [
    "int sumArray(int arr[], int n){\n",
    "    if(n == 0){\n",
    "        return 0;\n",
    "    }\n",
    "    return arr[n-1] + sumArray(arr, n-1);\n",
    "}"
   ]
  },
  {
   "cell_type": "code",
   "execution_count": 7,
   "id": "23ff2e0b-dced-4901-9247-729bc4b9d6d3",
   "metadata": {},
   "outputs": [],
   "source": [
    "int n = 5;\n",
    "int arr[] = {2,4,8,7,6}"
   ]
  },
  {
   "cell_type": "code",
   "execution_count": 8,
   "id": "9aa1baf9-e52e-44ce-a040-4edff937ba71",
   "metadata": {},
   "outputs": [
    {
     "name": "stdout",
     "output_type": "stream",
     "text": [
      "27\n"
     ]
    }
   ],
   "source": [
    "int sum = sumArray(arr, n);\n",
    "cout << sum << endl;"
   ]
  },
  {
   "cell_type": "markdown",
   "id": "7aec625d-1a07-49a3-bfed-b6a9978dc136",
   "metadata": {},
   "source": [
    "### 2. Create an array ‘a1’ with ‘n’ elements. Insert an element in ith position of ‘a1’ and also delete an element from jth position of ‘a1"
   ]
  },
  {
   "cell_type": "code",
   "execution_count": 2,
   "id": "d1b4ccdb-a3d6-407d-87fe-c4f6e796c61a",
   "metadata": {},
   "outputs": [],
   "source": [
    "void insertElement(vector<int>&arr, int element, int i){\n",
    "    arr.insert(arr.begin() + i, element);\n",
    "}"
   ]
  },
  {
   "cell_type": "code",
   "execution_count": 3,
   "id": "419731d9-74d5-4e55-9281-50a430560281",
   "metadata": {},
   "outputs": [],
   "source": [
    "void deleteElement(vector<int>&arr, int j){\n",
    "    arr.erase(arr.begin() + j);\n",
    "}"
   ]
  },
  {
   "cell_type": "code",
   "execution_count": 8,
   "id": "43b582bd-fd77-4361-b3fb-5bd788f72e15",
   "metadata": {},
   "outputs": [],
   "source": [
    "int n = 5;\n",
    "vector<int> a1 = {2,4,5,0,8};"
   ]
  },
  {
   "cell_type": "code",
   "execution_count": 10,
   "id": "502d9b43-1265-4b25-8ec8-1e9292b72951",
   "metadata": {},
   "outputs": [
    {
     "name": "stdin",
     "output_type": "stream",
     "text": [
      " 8\n",
      " 2\n"
     ]
    }
   ],
   "source": [
    "int element;\n",
    "int i, j;\n",
    "cin >> element;\n",
    "cin >> i;"
   ]
  },
  {
   "cell_type": "code",
   "execution_count": 11,
   "id": "bf50f60c-bb5a-4b98-b8ee-336935595111",
   "metadata": {},
   "outputs": [],
   "source": [
    "insertElement(a1, element, i);"
   ]
  },
  {
   "cell_type": "code",
   "execution_count": 12,
   "id": "b3f2e7c9-4fb3-4ba1-a60e-a9426f2441b3",
   "metadata": {},
   "outputs": [
    {
     "name": "stdin",
     "output_type": "stream",
     "text": [
      " 4\n"
     ]
    }
   ],
   "source": [
    "cin >> j;"
   ]
  },
  {
   "cell_type": "code",
   "execution_count": 13,
   "id": "67426656-1c44-4ee2-97b4-1f28d0661b88",
   "metadata": {},
   "outputs": [],
   "source": [
    "deleteElement(a1, j);"
   ]
  },
  {
   "cell_type": "code",
   "execution_count": 14,
   "id": "93186d48-3eae-4455-8dc0-559e511f285d",
   "metadata": {},
   "outputs": [
    {
     "name": "stdout",
     "output_type": "stream",
     "text": [
      "2 4 8 5 8 \n"
     ]
    }
   ],
   "source": [
    "for (int k = 0; k < a1.size(); ++k) {\n",
    "    cout << a1[k] << \" \";\n",
    "}\n",
    "cout << endl;"
   ]
  }
 ],
 "metadata": {
  "kernelspec": {
   "display_name": "C++17",
   "language": "C++17",
   "name": "xcpp17"
  },
  "language_info": {
   "codemirror_mode": "text/x-c++src",
   "file_extension": ".cpp",
   "mimetype": "text/x-c++src",
   "name": "c++",
   "version": "17"
  }
 },
 "nbformat": 4,
 "nbformat_minor": 5
}
